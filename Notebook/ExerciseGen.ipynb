{
 "cells": [
  {
   "cell_type": "code",
   "execution_count": 1,
   "id": "874e9c0f-41b5-45b2-9aaf-360d09b194a3",
   "metadata": {},
   "outputs": [],
   "source": [
    "from itertools import combinations\n",
    "import random\n",
    "import re\n",
    "from enum import Enum\n",
    "import ipywidgets as widgets\n",
    "from IPython.display import display, clear_output"
   ]
  },
  {
   "cell_type": "code",
   "execution_count": 2,
   "id": "37d0bc15-175c-439e-b5d2-7f29e4f0945f",
   "metadata": {},
   "outputs": [],
   "source": [
    "class Instrument(Enum):\n",
    "    GUITAR = 1\n",
    "    BASS = 2\n",
    "    UKULELE = 3\n",
    "\n",
    "def get_formulas_with_length(n):\n",
    "    functions = [\"1\", \"2b\", \"2\", \"3b\", \"3\", \"4\", \"5b\", \"5\", \"6b\", \"6\", \"7b\", \"7\"]\n",
    "    \"\"\"Get all formulas of a given length 1-12.\"\"\"\n",
    "    if n > 12 or n < 1:\n",
    "        print(\"Can only make formulas with between 1 and 12 functions.\")\n",
    "        return\n",
    "\n",
    "    # Keep the first string\n",
    "    first_string = functions[0]\n",
    "    \n",
    "    # Take combinations of the rest\n",
    "    formulas = [[first_string] + list(comb) for comb in combinations(functions[1:], n-1)]\n",
    "    return random.choice(formulas)\n",
    "    \n",
    "def get_random_key():\n",
    "    keys = [\"Db\", \"Ab\", \"Eb\", \"Bb\", \"F\", \"C\", \"G\", \"D\", \"A\", \"E\", \"B\", \"F#/Gb (Evil)\"]\n",
    "    \"\"\"Return a random key.\"\"\"\n",
    "    return random.choice(keys)\n",
    "    \n",
    "def get_random_zone():\n",
    "    zones = [\"1-4\", \"2-5\", \"3-6\", \"4-7\", \"5-8\", \"6-9\", \"7-10\", \"8-11\", \"9-12\", \"10-13\", \"11-14\", \"12-15\"]\n",
    "    \"\"\"Return a random zone.\"\"\"\n",
    "    return random.choice(zones)\n",
    "    \n",
    "def get_random_technique():\n",
    "    zones = [\"Notes\", \"Root and intervals\"]\n",
    "    \"\"\"Return a random technique.\"\"\"\n",
    "    return random.choice(zones)\n",
    "    \n",
    "def reorder_starting_with(value, array):\n",
    "    if value not in array:\n",
    "        raise ValueError(f\"'{value}' not found in the array\")\n",
    "    \n",
    "    index = array.index(value)\n",
    "    \n",
    "    # Split the array into two parts and recombine\n",
    "    return array[index:] + array[:index]\n",
    "\n",
    "def formula_to_notes(key, formula):\n",
    "    # Get sorted notes\n",
    "    raw_notes = [\"C\", \"Db\", \"D\", \"Eb\", \"E\", \"F\", \"Gb\", \"G\", \"Ab\", \"A\", \"Bb\", \"B\"]\n",
    "    if \"F#\" in key or \"Gb\" in key:\n",
    "        key = \"Gb\" # does this do anything funky?\n",
    "    raw_notes = reorder_starting_with(key, raw_notes)\n",
    "    \n",
    "    output_notes = []\n",
    "    \n",
    "    # Convert formula to notes\n",
    "    functions = [\"1\", \"2b\", \"2\", \"3b\", \"3\", \"4\", \"5b\", \"5\", \"6b\", \"6\", \"7b\", \"7\"]\n",
    "    for function in formula:\n",
    "        note_index = functions.index(function)\n",
    "        output_notes.append(raw_notes[note_index])\n",
    "        \n",
    "    return output_notes\n",
    "\n",
    "def note_to_fret(note, string_note):\n",
    "    raw_notes = [\"C\", \"Db\", \"D\", \"Eb\", \"E\", \"F\", \"Gb\", \"G\", \"Ab\", \"A\", \"Bb\", \"B\"]\n",
    "    raw_notes = reorder_starting_with(string_note, raw_notes)\n",
    "    fret_number = raw_notes.index(note)\n",
    "    return fret_number\n",
    "\n",
    "def fret_to_note(fret, string_note):\n",
    "    raw_notes = [\"C\", \"Db\", \"D\", \"Eb\", \"E\", \"F\", \"Gb\", \"G\", \"Ab\", \"A\", \"Bb\", \"B\"]\n",
    "    raw_notes = reorder_starting_with(string_note, raw_notes)\n",
    "    raw_notes += raw_notes\n",
    "    fret_note = raw_notes[fret]\n",
    "    return fret_note\n",
    "\n",
    "def get_first_digit(s):\n",
    "    match = re.search(r'\\d{1,2}', s)  # Matches 1 or 2 digits\n",
    "    if match:\n",
    "        return int(match.group())\n",
    "    return None\n",
    "    \n",
    "def position_notes_to_frets(notes, zone, strings):\n",
    "    start_fret = get_first_digit(zone)\n",
    "    end_fret = start_fret + 3\n",
    "\n",
    "    for string_note in strings:\n",
    "        output_string = string_note + \": \"\n",
    "        current_fret = start_fret\n",
    "        while current_fret <= end_fret:\n",
    "            current_note = fret_to_note(current_fret, string_note)\n",
    "            if current_note in notes:\n",
    "                output_string = output_string + current_note + \" \"\n",
    "            else:\n",
    "                output_string = output_string + \"- \"\n",
    "            current_fret += 1\n",
    "        print(output_string)\n",
    "\n",
    "def get_string_notes(instrument):\n",
    "    gitar_notes = [\"E\", \"B\", \"G\", \"D\", \"A\", \"E\"]\n",
    "    bass_notes = [\"G\", \"D\", \"A\", \"E\"]\n",
    "    ukulele_notes = [\"A\", \"E\", \"C\", \"G\"]\n",
    "    if instrument == Instrument.GUITAR:\n",
    "        return gitar_notes\n",
    "    elif instrument == Instrument.BASS:\n",
    "        return bass_notes\n",
    "    elif instrument == Instrument.UKULELE:\n",
    "        return ukulele_notes"
   ]
  },
  {
   "cell_type": "code",
   "execution_count": 3,
   "id": "34c08f5e-f23a-4bc2-a941-a72f2d9667e7",
   "metadata": {},
   "outputs": [
    {
     "name": "stdout",
     "output_type": "stream",
     "text": [
      " Formula:   1 2 7b\n",
      " Key:       E\n",
      " Zone:      12-15\n",
      " Technique: Notes\n"
     ]
    }
   ],
   "source": [
    "# User choices\n",
    "instrument = Instrument.GUITAR\n",
    "formula_length = 3\n",
    "\n",
    "# Generate and print exercise\n",
    "formula = get_formulas_with_length(formula_length)\n",
    "key = get_random_key()\n",
    "zone = get_random_zone()\n",
    "\n",
    "print(\" Formula:   \" + ' '.join(formula))\n",
    "print(\" Key:       \" + key)\n",
    "print(\" Zone:      \" + zone)\n",
    "print(\" Technique: \" + get_random_technique())"
   ]
  },
  {
   "cell_type": "code",
   "execution_count": 4,
   "id": "7fb1281a-95e3-4813-ba0a-751ae91d955b",
   "metadata": {},
   "outputs": [
    {
     "name": "stdout",
     "output_type": "stream",
     "text": [
      "\n",
      " Notes:     E Gb D\n",
      "\n",
      " Fretboard: \n",
      "E: E - Gb - \n",
      "B: - - - D \n",
      "G: - - - - \n",
      "D: D - E - \n",
      "A: - - - - \n",
      "E: E - Gb - \n"
     ]
    }
   ],
   "source": [
    "# Generate and print answers\n",
    "notes = formula_to_notes(key, formula)\n",
    "strings = get_string_notes(instrument)\n",
    "\n",
    "print(\"\")\n",
    "print(\" Notes:     \" + ' '.join(notes))\n",
    "print(\"\")\n",
    "print(\" Fretboard: \")\n",
    "position_notes_to_frets(notes, zone, strings)"
   ]
  },
  {
   "cell_type": "code",
   "execution_count": 7,
   "id": "5265b3de-eebb-486f-beea-4ec327a024fc",
   "metadata": {},
   "outputs": [
    {
     "data": {
      "application/vnd.jupyter.widget-view+json": {
       "model_id": "7e14bdf67ef24176a6f46bd127d16d9f",
       "version_major": 2,
       "version_minor": 0
      },
      "text/plain": [
       "Dropdown(description='Instrument:', options=('Guitar', 'Ukulele', 'Bass'), value='Guitar')"
      ]
     },
     "metadata": {},
     "output_type": "display_data"
    },
    {
     "data": {
      "application/vnd.jupyter.widget-view+json": {
       "model_id": "4c1f8b06990e4421bc90999eab5080ac",
       "version_major": 2,
       "version_minor": 0
      },
      "text/plain": [
       "BoundedIntText(value=3, description='Formula length:', max=12, min=1)"
      ]
     },
     "metadata": {},
     "output_type": "display_data"
    },
    {
     "data": {
      "application/vnd.jupyter.widget-view+json": {
       "model_id": "733557cf94314a22bbcd0faa62b2f013",
       "version_major": 2,
       "version_minor": 0
      },
      "text/plain": [
       "Button(description='Run', style=ButtonStyle())"
      ]
     },
     "metadata": {},
     "output_type": "display_data"
    },
    {
     "data": {
      "application/vnd.jupyter.widget-view+json": {
       "model_id": "dbf39099b4d842e3bc9e4f034141a47c",
       "version_major": 2,
       "version_minor": 0
      },
      "text/plain": [
       "Output()"
      ]
     },
     "metadata": {},
     "output_type": "display_data"
    },
    {
     "data": {
      "application/vnd.jupyter.widget-view+json": {
       "model_id": "92ecdd3372cd49919750f52469e52539",
       "version_major": 2,
       "version_minor": 0
      },
      "text/plain": [
       "Button(description='Show answers', style=ButtonStyle())"
      ]
     },
     "metadata": {},
     "output_type": "display_data"
    },
    {
     "data": {
      "application/vnd.jupyter.widget-view+json": {
       "model_id": "a2bdf383bff14e6ea1de49dd7359a344",
       "version_major": 2,
       "version_minor": 0
      },
      "text/plain": [
       "Output()"
      ]
     },
     "metadata": {},
     "output_type": "display_data"
    }
   ],
   "source": [
    "# UI testing\n",
    "\n",
    "# ----- Instrument dropdown -----\n",
    "instrument_dropdown = widgets.Dropdown(\n",
    "    options=['Guitar', 'Ukulele', 'Bass'],\n",
    "    value='Guitar',\n",
    "    description='Instrument:',\n",
    ")\n",
    "\n",
    "display(instrument_dropdown)\n",
    "\n",
    "def on_change(change):\n",
    "    if change['name'] == 'value':\n",
    "        print(change['new'])\n",
    "        # TODO: store instrument type globally\n",
    "\n",
    "instrument_dropdown.observe(on_change)\n",
    "\n",
    "# ----- Forumla length -----\n",
    "formula_length_field = widgets.BoundedIntText(\n",
    "    value=formula_length,\n",
    "    min=1,\n",
    "    max=12,\n",
    "    step=1,\n",
    "    description='Formula length:',\n",
    "    disabled=False\n",
    ")\n",
    "\n",
    "display(formula_length_field)\n",
    "\n",
    "def on_value_change(change):\n",
    "    print(change['new'])\n",
    "    global formula_length\n",
    "    formula_length = change['new']\n",
    "    \n",
    "\n",
    "formula_length_field.observe(on_value_change, names='value')\n",
    "\n",
    "# ----- Run button -----\n",
    "run_button = widgets.Button(\n",
    "    description=\"Run\"\n",
    ")\n",
    "\n",
    "def on_run_button_click(button):\n",
    "    # Clear previous output\n",
    "    with output:\n",
    "        clear_output(wait=True)\n",
    "\n",
    "        # User choices\n",
    "        #instrument = Instrument.GUITAR\n",
    "        global formula_length\n",
    "        formula_length = formula_length_field.value\n",
    "\n",
    "        # Generate and print exercise\n",
    "        global formula\n",
    "        global key\n",
    "        global zone\n",
    "        global notes\n",
    "        global strings\n",
    "        \n",
    "        formula = get_formulas_with_length(formula_length)\n",
    "        key = get_random_key()\n",
    "        zone = get_random_zone()\n",
    "        notes = formula_to_notes(key, formula)\n",
    "        strings = get_string_notes(instrument)\n",
    "\n",
    "        print(\"Formula:   \" + ' '.join(formula))\n",
    "        print(\"Key:       \" + key)\n",
    "        print(\"Zone:      \" + zone)\n",
    "        print(\"Technique: \" + get_random_technique())\n",
    "\n",
    "        \n",
    "\n",
    "run_button.on_click(on_run_button_click)\n",
    "\n",
    "output = widgets.Output()\n",
    "\n",
    "display(run_button)\n",
    "display(output)\n",
    "\n",
    "# ----- Answer output -----\n",
    "toggle_button = widgets.Button(description=\"Show answers\")\n",
    "answer_output = widgets.Output()\n",
    "\n",
    "is_output_displayed = False\n",
    "\n",
    "def on_toggle_button_click(button):\n",
    "    global is_output_displayed\n",
    "    if is_output_displayed:\n",
    "        answer_output.clear_output()\n",
    "    else:\n",
    "        with answer_output:\n",
    "            # Generate and print answers\n",
    "            notes = formula_to_notes(key, formula)\n",
    "            strings = get_string_notes(instrument)\n",
    "\n",
    "            print(\"Notes:     \" + ' '.join(notes))\n",
    "            print(\"\")\n",
    "            print(\"Fretboard: \")\n",
    "            position_notes_to_frets(notes, zone, strings)\n",
    "            \n",
    "    is_output_displayed = not is_output_displayed\n",
    "\n",
    "toggle_button.on_click(on_toggle_button_click)\n",
    "\n",
    "display(toggle_button)\n",
    "display(answer_output)\n"
   ]
  },
  {
   "cell_type": "code",
   "execution_count": 6,
   "id": "9e374aee-bdbc-4753-ba95-599fe4dcbc1c",
   "metadata": {},
   "outputs": [
    {
     "data": {
      "text/plain": [
       "3"
      ]
     },
     "execution_count": 6,
     "metadata": {},
     "output_type": "execute_result"
    }
   ],
   "source": [
    "formula_length"
   ]
  },
  {
   "cell_type": "code",
   "execution_count": null,
   "id": "9c54c3a3-b572-43ad-8757-2a1183f10704",
   "metadata": {},
   "outputs": [],
   "source": []
  }
 ],
 "metadata": {
  "kernelspec": {
   "display_name": "Python 3 (ipykernel)",
   "language": "python",
   "name": "python3"
  },
  "language_info": {
   "codemirror_mode": {
    "name": "ipython",
    "version": 3
   },
   "file_extension": ".py",
   "mimetype": "text/x-python",
   "name": "python",
   "nbconvert_exporter": "python",
   "pygments_lexer": "ipython3",
   "version": "3.10.10"
  }
 },
 "nbformat": 4,
 "nbformat_minor": 5
}
